{
 "cells": [
  {
   "cell_type": "code",
   "execution_count": null,
   "id": "eba98c2e",
   "metadata": {},
   "outputs": [],
   "source": [
    "import pandas as pd"
   ]
  },
  {
   "cell_type": "markdown",
   "id": "1ac005f6",
   "metadata": {},
   "source": [
    "# PART 1: Prepare the Data"
   ]
  },
  {
   "cell_type": "code",
   "execution_count": null,
   "id": "43790e06",
   "metadata": {},
   "outputs": [],
   "source": [
    "df = pd.read_csv(\"myopia.csv\")"
   ]
  },
  {
   "cell_type": "code",
   "execution_count": null,
   "id": "990822e4",
   "metadata": {},
   "outputs": [],
   "source": [
    "df.info()"
   ]
  },
  {
   "cell_type": "code",
   "execution_count": null,
   "id": "028b99ba",
   "metadata": {},
   "outputs": [],
   "source": [
    "df.sample(10)"
   ]
  },
  {
   "cell_type": "code",
   "execution_count": null,
   "id": "78406780",
   "metadata": {},
   "outputs": [],
   "source": [
    "df[\"MYOPIC\"].value_counts()"
   ]
  },
  {
   "cell_type": "code",
   "execution_count": null,
   "id": "df8e8d9e",
   "metadata": {},
   "outputs": [],
   "source": [
    "df[\"AGE\"].value_counts()"
   ]
  },
  {
   "cell_type": "code",
   "execution_count": null,
   "id": "18211f40",
   "metadata": {},
   "outputs": [],
   "source": [
    "df.isna().sum()"
   ]
  },
  {
   "cell_type": "code",
   "execution_count": null,
   "id": "e7368013",
   "metadata": {},
   "outputs": [],
   "source": [
    "df.duplicated().sum()"
   ]
  },
  {
   "cell_type": "code",
   "execution_count": null,
   "id": "d91ac4b9",
   "metadata": {},
   "outputs": [],
   "source": [
    "labels = df[\"MYOPIC\"]\n",
    "df_drop = df.drop(columns=[\"MYOPIC\"])"
   ]
  },
  {
   "cell_type": "code",
   "execution_count": null,
   "id": "c16d10e6",
   "metadata": {},
   "outputs": [],
   "source": [
    "from sklearn.preprocessing import StandardScaler\n",
    "\n",
    "scaler = StandardScaler()\n",
    "scaled_data = scaler.fit_transform(df_drop)\n",
    "scaled_data.shape"
   ]
  },
  {
   "cell_type": "markdown",
   "id": "a0a7be72",
   "metadata": {},
   "source": [
    "# PART 2: Apply Dimensionality Reduction"
   ]
  },
  {
   "cell_type": "code",
   "execution_count": null,
   "id": "b9ddb73b",
   "metadata": {},
   "outputs": [],
   "source": [
    "from sklearn.decomposition import PCA\n",
    "\n",
    "# Initialize PCA model\n",
    "\n",
    "pca = PCA(n_components=0.90)\n",
    "\n",
    "myopia_pca = pca.fit_transform(scaled_data)"
   ]
  },
  {
   "cell_type": "code",
   "execution_count": null,
   "id": "7bbd3ec1",
   "metadata": {},
   "outputs": [],
   "source": [
    "myopia_pca.shape # 14 features reduced to 10"
   ]
  },
  {
   "cell_type": "code",
   "execution_count": null,
   "id": "26272c67",
   "metadata": {},
   "outputs": [],
   "source": [
    " # Transform PCA data to a DataFrame\n",
    "    \n",
    "df_myopia_pca = pd.DataFrame(\n",
    "    data=myopia_pca,\n",
    "    columns=[\"pc_1\", \"pc_2\", \"pc_3\", \"pc_4\", \"pc_5\", \"pc_6\", \"pc_7\", \"pc_8\", \"pc_9\", \"pc_10\"]\n",
    ")\n",
    "\n",
    "df_myopia_pca.head()"
   ]
  },
  {
   "cell_type": "code",
   "execution_count": null,
   "id": "9353f38c",
   "metadata": {},
   "outputs": [],
   "source": [
    "pca.explained_variance_ratio_"
   ]
  },
  {
   "cell_type": "code",
   "execution_count": null,
   "id": "0d0b51ce",
   "metadata": {},
   "outputs": [],
   "source": [
    "pca.singular_values_"
   ]
  },
  {
   "cell_type": "code",
   "execution_count": null,
   "id": "3d1cafa8",
   "metadata": {},
   "outputs": [],
   "source": [
    "from sklearn.manifold import TSNE\n",
    "\n",
    "tsne_df = df_myopia_pca.copy()\n",
    "\n",
    " # Initialize t-SNE model\n",
    "    \n",
    "tsne = TSNE(learning_rate=10)"
   ]
  },
  {
   "cell_type": "code",
   "execution_count": null,
   "id": "68e02239",
   "metadata": {},
   "outputs": [],
   "source": [
    " # Reduce dimensions\n",
    "    \n",
    "tsne_features = tsne.fit_transform(tsne_df)"
   ]
  },
  {
   "cell_type": "code",
   "execution_count": null,
   "id": "8c28130a",
   "metadata": {},
   "outputs": [],
   "source": [
    "tsne_features.shape # Reduced 10 primary components down to 2"
   ]
  },
  {
   "cell_type": "code",
   "execution_count": null,
   "id": "8897fb57",
   "metadata": {},
   "outputs": [],
   "source": [
    "import matplotlib.pyplot as plt\n",
    "\n",
    "# Prepare to plot the dataset\n",
    "\n",
    "# The first column of transformed features\n",
    "\n",
    "tsne_df[\"x\"] = tsne_features[:, 0]\n",
    "\n",
    "# The second column of transformed features\n",
    "\n",
    "tsne_df[\"y\"] = tsne_features[:, 1]\n",
    "\n",
    " # Visualize the clusters\n",
    "    \n",
    "plt.scatter(tsne_df[\"x\"], tsne_df[\"y\"])\n",
    "plt.show()"
   ]
  },
  {
   "cell_type": "code",
   "execution_count": null,
   "id": "5d81803b",
   "metadata": {},
   "outputs": [],
   "source": [
    "labels.value_counts()"
   ]
  },
  {
   "cell_type": "code",
   "execution_count": null,
   "id": "0841645f",
   "metadata": {},
   "outputs": [],
   "source": [
    " # Visualize the clusters with color\n",
    "    \n",
    "plt.scatter(tsne_df[\"x\"], tsne_df[\"y\"], c=labels)\n",
    "plt.show()"
   ]
  },
  {
   "cell_type": "markdown",
   "id": "bb125a62",
   "metadata": {},
   "source": [
    "# PART 3: Perform a Cluster Analysis with K-means"
   ]
  },
  {
   "cell_type": "code",
   "execution_count": null,
   "id": "c07b7401",
   "metadata": {},
   "outputs": [],
   "source": [
    " # Do this on Windows machines before importing KMeans to avoid a known bug (memory leak). \n",
    "    \n",
    "import os\n",
    "os.environ[\"OMP_NUM_THREADS\"] = '1'"
   ]
  },
  {
   "cell_type": "code",
   "execution_count": null,
   "id": "e5e0bed9",
   "metadata": {},
   "outputs": [],
   "source": [
    "from sklearn.cluster import KMeans\n",
    "\n",
    "inertia = []\n",
    "\n",
    "k = list(range(1,11))\n",
    "\n",
    "# Looking for the best k\n",
    "\n",
    "for i in k:\n",
    "    km = KMeans(n_clusters=i, random_state=0)\n",
    "    km.fit(df)\n",
    "    inertia.append(km.inertia_)\n",
    "\n",
    "# Define a DataFrame to plot the Elbow Curve using hvPlot\n",
    "\n",
    "elbow_data = {\"k\": k, \"inertia\": inertia}\n",
    "df_elbow = pd.DataFrame(elbow_data)\n",
    "\n",
    "plt.plot(df_elbow[\"k\"], df_elbow[\"inertia\"])\n",
    "plt.xticks(range(1,11))\n",
    "plt.xlabel(\"Number of clusters\")\n",
    "plt.ylabel(\"Inertia\")\n",
    "plt.show()"
   ]
  },
  {
   "cell_type": "code",
   "execution_count": null,
   "id": "16bf161e",
   "metadata": {},
   "outputs": [],
   "source": [
    "# Initializing model with K = 3 \n",
    "    \n",
    "model = KMeans(n_clusters=3, random_state=0)\n",
    "\n",
    "model.fit(df)"
   ]
  },
  {
   "cell_type": "code",
   "execution_count": null,
   "id": "8d05b003",
   "metadata": {},
   "outputs": [],
   "source": [
    " # Get predictions\n",
    "    \n",
    "predictions = model.predict(df)\n",
    "\n",
    "print(predictions)"
   ]
  },
  {
   "cell_type": "code",
   "execution_count": null,
   "id": "c980fd54",
   "metadata": {},
   "outputs": [],
   "source": [
    "df[\"class\"] = model.labels_\n",
    "df.head()"
   ]
  },
  {
   "cell_type": "code",
   "execution_count": null,
   "id": "130f5d5f",
   "metadata": {},
   "outputs": [],
   "source": [
    "set(model.labels_)"
   ]
  },
  {
   "cell_type": "code",
   "execution_count": null,
   "id": "9ce5015d",
   "metadata": {},
   "outputs": [],
   "source": [
    "plt.scatter(df[\"SPHEQ\"], df[\"ACD\"], c=df[\"class\"])\n",
    "plt.xlabel(\"SPHEQ\")\n",
    "plt.ylabel(\"ACD\")\n",
    "plt.show()"
   ]
  },
  {
   "cell_type": "markdown",
   "id": "5908e784",
   "metadata": {},
   "source": [
    "# PART 4: Make a Recommendation"
   ]
  },
  {
   "cell_type": "markdown",
   "id": "a0fd139a",
   "metadata": {},
   "source": [
    "I'm not finding any discernable clusters from the different unsupervised learning algorithms we employed."
   ]
  }
 ],
 "metadata": {
  "kernelspec": {
   "display_name": "Python 3 (ipykernel)",
   "language": "python",
   "name": "python3"
  },
  "language_info": {
   "codemirror_mode": {
    "name": "ipython",
    "version": 3
   },
   "file_extension": ".py",
   "mimetype": "text/x-python",
   "name": "python",
   "nbconvert_exporter": "python",
   "pygments_lexer": "ipython3",
   "version": "3.8.10"
  }
 },
 "nbformat": 4,
 "nbformat_minor": 5
}
