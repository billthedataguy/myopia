{
 "cells": [
  {
   "cell_type": "code",
   "execution_count": null,
   "id": "eba98c2e",
   "metadata": {},
   "outputs": [],
   "source": [
    "import pandas as pd"
   ]
  },
  {
   "cell_type": "code",
   "execution_count": null,
   "id": "43790e06",
   "metadata": {},
   "outputs": [],
   "source": [
    "df = pd.read_csv(\"myopia.csv\")"
   ]
  },
  {
   "cell_type": "code",
   "execution_count": null,
   "id": "990822e4",
   "metadata": {},
   "outputs": [],
   "source": [
    "df.info()"
   ]
  },
  {
   "cell_type": "code",
   "execution_count": null,
   "id": "028b99ba",
   "metadata": {},
   "outputs": [],
   "source": [
    "df.sample(10)"
   ]
  },
  {
   "cell_type": "code",
   "execution_count": null,
   "id": "d91ac4b9",
   "metadata": {},
   "outputs": [],
   "source": [
    "df = df.drop(columns=[\"MYOPIC\"])"
   ]
  },
  {
   "cell_type": "code",
   "execution_count": null,
   "id": "8e6f495d",
   "metadata": {},
   "outputs": [],
   "source": []
  }
 ],
 "metadata": {
  "kernelspec": {
   "display_name": "Python 3 (ipykernel)",
   "language": "python",
   "name": "python3"
  },
  "language_info": {
   "codemirror_mode": {
    "name": "ipython",
    "version": 3
   },
   "file_extension": ".py",
   "mimetype": "text/x-python",
   "name": "python",
   "nbconvert_exporter": "python",
   "pygments_lexer": "ipython3",
   "version": "3.8.13"
  }
 },
 "nbformat": 4,
 "nbformat_minor": 5
}
