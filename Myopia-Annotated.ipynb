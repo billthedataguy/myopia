{
 "cells": [
  {
   "cell_type": "markdown",
   "id": "229610b8",
   "metadata": {},
   "source": [
    "# Myopia Clusters\n",
    "\n",
    "In this notebook I attempt to cluster a myopia dataset into discernable groups using various unsupervised machine learning algorithms.  "
   ]
  },
  {
   "cell_type": "code",
   "execution_count": null,
   "id": "eba98c2e",
   "metadata": {},
   "outputs": [],
   "source": [
    "from sklearn.decomposition import PCA\n",
    "from sklearn.manifold import TSNE\n",
    "\n",
    "from sklearn.preprocessing import StandardScaler\n",
    "from sklearn.preprocessing import normalize\n",
    "\n",
    "import matplotlib.pyplot as plt\n",
    "import pandas as pd\n",
    "import seaborn as sns"
   ]
  },
  {
   "cell_type": "code",
   "execution_count": null,
   "id": "4abe5514",
   "metadata": {},
   "outputs": [],
   "source": [
    "# Do this on Windows machines before importing KMeans to avoid a known bug (memory leak). \n",
    "    \n",
    "import os\n",
    "os.environ[\"OMP_NUM_THREADS\"] = \"1\"\n",
    "\n",
    "from sklearn.cluster import KMeans"
   ]
  },
  {
   "cell_type": "markdown",
   "id": "1ac005f6",
   "metadata": {},
   "source": [
    "# PART 1: Prepare the Data"
   ]
  },
  {
   "cell_type": "code",
   "execution_count": null,
   "id": "55c0cbac",
   "metadata": {},
   "outputs": [],
   "source": [
    "def load_dataset():\n",
    "    \n",
    "    filepath = \"Resources/myopia.csv\"\n",
    "\n",
    "    df = pd.read_csv(filepath, encoding=\"utf-8\", low_memory=False)\n",
    "    \n",
    "    return df"
   ]
  },
  {
   "cell_type": "code",
   "execution_count": null,
   "id": "0b55e794",
   "metadata": {},
   "outputs": [],
   "source": [
    "def clean_dataset(a_df):\n",
    "    \n",
    "    a_df = a_df.drop_duplicates()   \n",
    "        \n",
    "    a_df = a_df.dropna()\n",
    "        \n",
    "    a_df = a_df.reset_index(drop=True)\n",
    "    \n",
    "    return a_df   "
   ]
  },
  {
   "cell_type": "code",
   "execution_count": null,
   "id": "046402a7",
   "metadata": {},
   "outputs": [],
   "source": [
    "def examine_dataset(a_df):\n",
    "    \n",
    "    print(a_df.info())\n",
    "           \n",
    "    print(f'\\n\\nMYOPIC VALUE COUNTS: \\n {a_df[\"MYOPIC\"].value_counts()}\\n\\n')\n",
    "    \n",
    "    a_df.hist(figsize = (15, 15))  \n",
    "    \n",
    "    sns.PairGrid(a_df[[\"SPHEQ\", \"AL\", \"ACD\", \"LT\", \"VCD\"]]).map_upper(plt.scatter) # just scatter plot the float values"
   ]
  },
  {
   "cell_type": "code",
   "execution_count": null,
   "id": "2ad320c7",
   "metadata": {},
   "outputs": [],
   "source": [
    "def scale_dataset(a_df):\n",
    "    \n",
    "    myopic_labels = a_df[\"MYOPIC\"]    \n",
    "    no_target_df = a_df.drop(columns=[\"MYOPIC\"])\n",
    "    \n",
    "    scaler = StandardScaler()\n",
    "    scaled_data = scaler.fit_transform(no_target_df)    \n",
    "    print(f\"SHAPE AFTER SCALING: {scaled_data.shape}\")\n",
    "\n",
    "    normalized_data = normalize(no_target_df)    \n",
    "    print(f\"SHAPE AFTER NORMALIZING: {normalized_data.shape}\")\n",
    "\n",
    "    return no_target_df, scaled_data, normalized_data, myopic_labels"
   ]
  },
  {
   "cell_type": "code",
   "execution_count": null,
   "id": "73095ac1",
   "metadata": {},
   "outputs": [],
   "source": [
    "loaded_df = load_dataset()"
   ]
  },
  {
   "cell_type": "code",
   "execution_count": null,
   "id": "76973259",
   "metadata": {},
   "outputs": [],
   "source": [
    "clean_df = clean_dataset(loaded_df)"
   ]
  },
  {
   "cell_type": "code",
   "execution_count": null,
   "id": "9fb0b31b",
   "metadata": {},
   "outputs": [],
   "source": [
    "examine_dataset(clean_df)"
   ]
  },
  {
   "cell_type": "code",
   "execution_count": null,
   "id": "3b6cd33e",
   "metadata": {},
   "outputs": [],
   "source": [
    "df, scaled_data, normalized_data, labels = scale_dataset(clean_df)"
   ]
  },
  {
   "cell_type": "code",
   "execution_count": null,
   "id": "39f6ac6e",
   "metadata": {},
   "outputs": [],
   "source": [
    "df.head()"
   ]
  },
  {
   "cell_type": "code",
   "execution_count": null,
   "id": "43790e06",
   "metadata": {},
   "outputs": [],
   "source": [
    "scaled_data[:5]"
   ]
  },
  {
   "cell_type": "code",
   "execution_count": null,
   "id": "990822e4",
   "metadata": {},
   "outputs": [],
   "source": [
    "normalized_data[:5]"
   ]
  },
  {
   "cell_type": "code",
   "execution_count": null,
   "id": "ac56e6c6",
   "metadata": {},
   "outputs": [],
   "source": [
    "set(labels)"
   ]
  },
  {
   "cell_type": "markdown",
   "id": "a0a7be72",
   "metadata": {},
   "source": [
    "# PART 2: Apply Dimensionality Reduction"
   ]
  },
  {
   "cell_type": "code",
   "execution_count": null,
   "id": "ce33a5d7",
   "metadata": {},
   "outputs": [],
   "source": [
    "def perform_pca(data):\n",
    "    \n",
    "    pca = PCA(n_components=0.90)\n",
    "    \n",
    "    pca_data = pca.fit_transform(data)\n",
    "    \n",
    "    num_cols = pca_data.shape[1]\n",
    "    \n",
    "    print(f\"SHAPE AFTER PCA: {pca_data.shape}\")\n",
    "    \n",
    "    pca_df = pd.DataFrame(\n",
    "        data=pca_data,\n",
    "        columns=[f\"pc_{x}\" for x in list(range(1,num_cols+1))]\n",
    "    )\n",
    "    \n",
    "    return pca_df "
   ]
  },
  {
   "cell_type": "code",
   "execution_count": null,
   "id": "062d82ef",
   "metadata": {},
   "outputs": [],
   "source": [
    "def perform_tsne(a_df):\n",
    "    \n",
    "    tsne_df = a_df.copy()\n",
    "    \n",
    "    tsne = TSNE(learning_rate=200)\n",
    "    \n",
    "    tsne_features = tsne.fit_transform(tsne_df)\n",
    "    \n",
    "    print(f\"SHAPE AFTER TSNE: {tsne_features.shape}\")\n",
    "    \n",
    "    tsne_df[\"x\"] = tsne_features[:, 0]\n",
    "    \n",
    "    tsne_df[\"y\"] = tsne_features[:, 1]    \n",
    "        \n",
    "    return tsne_df"
   ]
  },
  {
   "cell_type": "code",
   "execution_count": null,
   "id": "9bd931a6",
   "metadata": {},
   "outputs": [],
   "source": [
    "def plot_tsne(a_df):\n",
    "    \n",
    "    plt.scatter(a_df[\"x\"], a_df[\"y\"], c=labels, cmap=\"rainbow\")\n",
    "    plt.title(f\"TSNE Plot\")\n",
    "    \n",
    "    plt.show()"
   ]
  },
  {
   "cell_type": "code",
   "execution_count": null,
   "id": "3bfcae2f",
   "metadata": {},
   "outputs": [],
   "source": [
    "scaled_df = perform_pca(scaled_data)"
   ]
  },
  {
   "cell_type": "code",
   "execution_count": null,
   "id": "8b33a279",
   "metadata": {},
   "outputs": [],
   "source": [
    "normalized_df = perform_pca(normalized_data)"
   ]
  },
  {
   "cell_type": "code",
   "execution_count": null,
   "id": "f51c91d5",
   "metadata": {},
   "outputs": [],
   "source": [
    "tsne_scaled_df = perform_tsne(scaled_df)"
   ]
  },
  {
   "cell_type": "code",
   "execution_count": null,
   "id": "ead4fed2",
   "metadata": {},
   "outputs": [],
   "source": [
    "tsne_normalized_df = perform_tsne(normalized_df)"
   ]
  },
  {
   "cell_type": "code",
   "execution_count": null,
   "id": "713dd6da",
   "metadata": {},
   "outputs": [],
   "source": [
    "plot_tsne(tsne_scaled_df)"
   ]
  },
  {
   "cell_type": "code",
   "execution_count": null,
   "id": "eaf45307",
   "metadata": {},
   "outputs": [],
   "source": [
    "plot_tsne(tsne_normalized_df)"
   ]
  },
  {
   "cell_type": "markdown",
   "id": "ea156312",
   "metadata": {},
   "source": [
    "At this point in the analysis, it appears that there are no discernable clusters. "
   ]
  },
  {
   "cell_type": "markdown",
   "id": "bb125a62",
   "metadata": {},
   "source": [
    "# PART 3: Perform a Cluster Analysis with K-means"
   ]
  },
  {
   "cell_type": "code",
   "execution_count": null,
   "id": "c07b7401",
   "metadata": {},
   "outputs": [],
   "source": [
    "def make_elbow_plot(a_df):\n",
    "    \n",
    "    inertia = []\n",
    "    \n",
    "    num_cols = a_df.shape[1]\n",
    "\n",
    "    k = list(range(1,num_cols+1))\n",
    "\n",
    "    for i in k:\n",
    "        km = KMeans(n_clusters=i, random_state=0)\n",
    "        km.fit(a_df)\n",
    "        inertia.append(km.inertia_)\n",
    "\n",
    "    elbow_data = {\"k\": k, \"inertia\": inertia}\n",
    "    df_elbow = pd.DataFrame(elbow_data)\n",
    "\n",
    "    plt.plot(df_elbow[\"k\"], df_elbow[\"inertia\"])\n",
    "    plt.xticks(range(1,num_cols+1))\n",
    "    plt.xlabel(\"Number of clusters\")\n",
    "    plt.ylabel(\"Inertia\")\n",
    "    plt.title(f\"Elbow Plot\")\n",
    "\n",
    "    plt.show()"
   ]
  },
  {
   "cell_type": "code",
   "execution_count": null,
   "id": "d5dc0519",
   "metadata": {},
   "outputs": [],
   "source": [
    "def make_kmeans_plot(a_df, some_k):\n",
    "    \n",
    "    k = some_k\n",
    "    \n",
    "    model = KMeans(n_clusters=k, random_state=0)\n",
    "\n",
    "    model.fit(a_df)    \n",
    "\n",
    "    predictions = model.predict(a_df)\n",
    "    \n",
    "    print(f\"Predictions: {predictions}\")\n",
    "\n",
    "    labels = model.labels_\n",
    "    \n",
    "    plt.scatter(a_df[\"x\"], a_df[\"y\"], c=labels, cmap=\"rainbow\")\n",
    "    plt.xlabel(\"x\")\n",
    "    plt.ylabel(\"y\")\n",
    "    plt.title(f\"K-means Plot with {k} Clusters\")\n",
    "    plt.show()   "
   ]
  },
  {
   "cell_type": "code",
   "execution_count": null,
   "id": "e5e0bed9",
   "metadata": {},
   "outputs": [],
   "source": [
    "make_elbow_plot(tsne_scaled_df)"
   ]
  },
  {
   "cell_type": "markdown",
   "id": "135b43ab",
   "metadata": {},
   "source": [
    "The elbow of the above chart appears to be 5."
   ]
  },
  {
   "cell_type": "code",
   "execution_count": null,
   "id": "ea715b60",
   "metadata": {},
   "outputs": [],
   "source": [
    "make_elbow_plot(tsne_normalized_df)"
   ]
  },
  {
   "cell_type": "markdown",
   "id": "6074bfef",
   "metadata": {},
   "source": [
    "The elbow of the above chart appears to be 4."
   ]
  },
  {
   "cell_type": "code",
   "execution_count": null,
   "id": "bbf4964d",
   "metadata": {},
   "outputs": [],
   "source": [
    "make_kmeans_plot(tsne_scaled_df, 5)"
   ]
  },
  {
   "cell_type": "code",
   "execution_count": null,
   "id": "71230652",
   "metadata": {},
   "outputs": [],
   "source": [
    "make_kmeans_plot(tsne_normalized_df, 4)"
   ]
  },
  {
   "cell_type": "markdown",
   "id": "5908e784",
   "metadata": {},
   "source": [
    "# PART 4: Make a Recommendation"
   ]
  },
  {
   "cell_type": "markdown",
   "id": "d810c5be",
   "metadata": {},
   "source": [
    "After testing the myopia dataset it looks to this analyst like there are 4-5 discernable clusters of groups.  When the data are standardized using the StandardScaler() there are 5 fairly well-separated clusters, resembling a \"starfish\"; when standardized with normalization, 4 clusters are detectable, though not as clearly as the former. "
   ]
  }
 ],
 "metadata": {
  "kernelspec": {
   "display_name": "Python 3 (ipykernel)",
   "language": "python",
   "name": "python3"
  },
  "language_info": {
   "codemirror_mode": {
    "name": "ipython",
    "version": 3
   },
   "file_extension": ".py",
   "mimetype": "text/x-python",
   "name": "python",
   "nbconvert_exporter": "python",
   "pygments_lexer": "ipython3",
   "version": "3.8.13"
  }
 },
 "nbformat": 4,
 "nbformat_minor": 5
}
